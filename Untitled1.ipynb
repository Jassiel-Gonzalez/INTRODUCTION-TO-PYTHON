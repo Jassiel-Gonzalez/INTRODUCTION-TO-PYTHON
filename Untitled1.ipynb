{
  "nbformat": 4,
  "nbformat_minor": 0,
  "metadata": {
    "colab": {
      "name": "Untitled1.ipynb",
      "provenance": [],
      "collapsed_sections": [],
      "toc_visible": true,
      "authorship_tag": "ABX9TyNeWCTZc/7S65X8uIQOV4qC",
      "include_colab_link": true
    },
    "kernelspec": {
      "name": "python3",
      "display_name": "Python 3"
    },
    "language_info": {
      "name": "python"
    }
  },
  "cells": [
    {
      "cell_type": "markdown",
      "metadata": {
        "id": "view-in-github",
        "colab_type": "text"
      },
      "source": [
        "<a href=\"https://colab.research.google.com/github/Jassiel-Gonzalez/INTRODUCTION-TO-PYTHON/blob/main/Untitled1.ipynb\" target=\"_parent\"><img src=\"https://colab.research.google.com/assets/colab-badge.svg\" alt=\"Open In Colab\"/></a>"
      ]
    },
    {
      "cell_type": "markdown",
      "metadata": {
        "id": "9MLlMz_XvPqy"
      },
      "source": [
        "# **INTRODUCTION TO PYTHON**\n",
        "\n",
        "Python is a dynamically interpreted and typed programming language, whose philosophy stands out in a syntax that favors readable code. Furthermore, Python is a multi-paradigm and multi-platform programming language.\n",
        "Simply put, ** Python is **:\n",
        "\n",
        "*** Interpreted ***: Because it is executed without the need to be processed by the compiler and errors are detected at runtime.\n",
        "\n",
        "*** Dynamic writing ***: because variables are checked at runtime.\n",
        "\n",
        "*** Multiplatform ***: because it is available for Windows, Linux, MAC platforms.\n",
        "\n",
        "*** Multiparadigm ***: because it supports functional programming, imperative programming and object-oriented programming."
      ]
    },
    {
      "cell_type": "code",
      "metadata": {
        "colab": {
          "base_uri": "https://localhost:8080/",
          "height": 326
        },
        "id": "IRRlCE0hzlLC",
        "outputId": "0ffd0508-4515-4af8-88d9-d20776fc9c4c"
      },
      "source": [
        "%%html \n",
        "<img width=\"500px\" src=\"https://www.esic.edu/sites/default/files/2020-10/para-que-sirve-phyton.jpg\"></img>"
      ],
      "execution_count": null,
      "outputs": [
        {
          "output_type": "display_data",
          "data": {
            "text/html": [
              "<img width=\"500px\" src=\"https://www.esic.edu/sites/default/files/2020-10/para-que-sirve-phyton.jpg\"></img>"
            ],
            "text/plain": [
              "<IPython.core.display.HTML object>"
            ]
          },
          "metadata": {}
        }
      ]
    },
    {
      "cell_type": "markdown",
      "metadata": {
        "id": "cUOufI3XEWyf"
      },
      "source": [
        "### **Origin of the python**\n",
        "Guido Van Rossum was responsible for and creator of Python at Christmas 1989 and began to implement it in February 1991, the year in which its first public version was published.\n",
        "\n",
        "Python was developed for the Amoeba operating system and its name comes from Van Rossum's fondness for the Monty Python group.\n"
      ]
    },
    {
      "cell_type": "code",
      "metadata": {
        "colab": {
          "base_uri": "https://localhost:8080/",
          "height": 283
        },
        "id": "U9TmZY_1GHbs",
        "outputId": "29891ee9-d8bf-4c82-afb5-fae47cd402c4"
      },
      "source": [
        "%%html \n",
        "<img width=\"500px\" src=\"https://www.codigocorrecto.com/wp-content/uploads/2020/11/guido_social-landscape.jpg\"></img>"
      ],
      "execution_count": null,
      "outputs": [
        {
          "output_type": "display_data",
          "data": {
            "text/html": [
              "<img width=\"500px\" src=\"https://www.codigocorrecto.com/wp-content/uploads/2020/11/guido_social-landscape.jpg\"></img>"
            ],
            "text/plain": [
              "<IPython.core.display.HTML object>"
            ]
          },
          "metadata": {}
        }
      ]
    },
    {
      "cell_type": "markdown",
      "metadata": {
        "id": "hvCmtkwNGa0C"
      },
      "source": [
        "### **Declaration in Python**\n",
        "A Python declaration is an instruction given to the interpreter to execute. A statement can contain an expression, for example: ***result = x + y***\n",
        "\n",
        "### **explicit line continuation.**\n",
        "The Python declaration can be thought of as an instruction for the interpreter to resolve the expression and store its result in a variable.\n",
        "\n",
        "\n",
        "### **Variables in Python**\n",
        "In Python, the name of a variable cannot match the names of the commands assigned to this programming language and must not contain blanks.\n",
        "\n",
        "In other words, a variable cannot be called **\"print\"** since this is one of the commands assigned to Python, also, it cannot be called **\"na me\"** since it contains a blank space.\n",
        "\n",
        "\n",
        "In Python, the two most common types of variables are:\n",
        "\n",
        "* **Variables that store numbers.**\n",
        "* **Variables that store texts.**\n",
        "\n",
        "\n",
        "In variables that store numbers, there are two types of principals:\n",
        "* **Whole numbers  (called int)**\n",
        "* **Decimal or real numbers  (called floats)**\n",
        "\n",
        "\n",
        "In variables that store text, they are called *** string (str). ***\n",
        "It is very important that the content to be stored in this type of variable is in quotes, because Python will interpret it as text when the data to be stored is in quotes. For example: *** \"hello world\". ***\n",
        "\n",
        "### **if-else conditional**\n",
        "\n",
        "The if-else control structure allows a program to execute some statements when a condition is met and other statements when that condition is not met.\n",
        "\n",
        "The if-else construction is as follows:\n",
        "\n",
        "**if condition:**\n",
        "         In this part are the orders that are executed if the condition is true.\n",
        "\n",
        "**the rest:**\n",
        "         In this part are the orders that are executed if the condition is\n",
        "         fake.\n",
        "\n",
        "       The execution of this construction is as follows:\n",
        "* **The condition is always evaluated.**\n",
        "* **If the result is True, only instruction block 1 is executed.**\n",
        "* **If the result is False, only instruction block 2 is executed.**\n",
        "\n",
        "### **While repeating**\n",
        "A while loop allows repeating the execution of a group of instructions as long as a condition is met (that is, as long as the condition has the value True). The execution of this while control structure is as follows: **Python evaluates the condition:** *if the result is True, the body of the loop is executed.*\n",
        "\n",
        "### **While repeating**\n",
        "The for loop is used to loop through the elements of an iterable object (list, tuple, set, dictionary, etc.) and execute a block of code.\n",
        "\n",
        "\n",
        "\n"
      ]
    },
    {
      "cell_type": "markdown",
      "metadata": {
        "id": "vW9egb8MoKvG"
      },
      "source": [
        "### **References**\n",
        "La Geekipedia De Ernesto. (15 de julio de 2019) *Curso Python desde cero#1| Introducción e instalación de Python*. YouTube. https://www.youtube.com/watch?v=DAdRO6ByBoU\t\n",
        "\n",
        "Tokio School. (22/10/2020) *La historia de Python. Las versiones de un lenguaje único*. https://www.tokioschool.com/noticias/historia-python/\n",
        "\n",
        "DelftStack. (2020) *Tutorial de Python - Declaración y comentario*. https://www.delftstack.com/es/tutorial/python-3-basic-tutorial/statement-indentation-and-comment/\n",
        "\n",
        "J2LOGO. (2018)*Python if – Sentencia if de control de flujo*. https://j2logo.com/python/tutorial/python-if-sentencia/"
      ]
    }
  ]
}